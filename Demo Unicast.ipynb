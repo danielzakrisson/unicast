{
 "cells": [
  {
   "cell_type": "markdown",
   "metadata": {},
   "source": [
    "# Unicast\n",
    "The objective of Unicast is to assist you to optimize the Uniswap price range. We provide two models:\\\n",
    "Expected Timefraction - Calculates the expected time fraction given a time horizon and price range.\\\n",
    "Best Range - Finds the tightest price window given a expected time fraction and time horizon.\n"
   ]
  },
  {
   "cell_type": "code",
   "execution_count": 1,
   "metadata": {},
   "outputs": [
    {
     "ename": "ModuleNotFoundError",
     "evalue": "No module named 'app.import_ethereum_timeseries'",
     "output_type": "error",
     "traceback": [
      "\u001b[0;31m---------------------------------------------------------------------------\u001b[0m",
      "\u001b[0;31mModuleNotFoundError\u001b[0m                       Traceback (most recent call last)",
      "\u001b[0;32m<ipython-input-1-20fb506c81b5>\u001b[0m in \u001b[0;36m<module>\u001b[0;34m\u001b[0m\n\u001b[1;32m      2\u001b[0m \u001b[0;32mfrom\u001b[0m \u001b[0mmatplotlib\u001b[0m \u001b[0;32mimport\u001b[0m \u001b[0mpylab\u001b[0m \u001b[0;32mas\u001b[0m \u001b[0mplt\u001b[0m\u001b[0;34m\u001b[0m\u001b[0;34m\u001b[0m\u001b[0m\n\u001b[1;32m      3\u001b[0m \u001b[0;32mfrom\u001b[0m \u001b[0mapp\u001b[0m\u001b[0;34m.\u001b[0m\u001b[0mexpected_timefraction_predictions\u001b[0m \u001b[0;32mimport\u001b[0m \u001b[0mexpected_timefraction\u001b[0m\u001b[0;34m,\u001b[0m \u001b[0mbest_range\u001b[0m\u001b[0;34m\u001b[0m\u001b[0;34m\u001b[0m\u001b[0m\n\u001b[0;32m----> 4\u001b[0;31m \u001b[0;32mfrom\u001b[0m \u001b[0mapp\u001b[0m\u001b[0;34m.\u001b[0m\u001b[0mimport_ethereum_timeseries\u001b[0m \u001b[0;32mimport\u001b[0m \u001b[0methereum_data\u001b[0m\u001b[0;34m\u001b[0m\u001b[0;34m\u001b[0m\u001b[0m\n\u001b[0m",
      "\u001b[0;31mModuleNotFoundError\u001b[0m: No module named 'app.import_ethereum_timeseries'"
     ]
    }
   ],
   "source": [
    "import numpy as np\n",
    "from matplotlib import pylab as plt\n",
    "from app.expected_timefraction_predictions import expected_timefraction, best_range\n",
    "from app.import_ethereum_timeseries import ethereum_data"
   ]
  },
  {
   "cell_type": "markdown",
   "metadata": {},
   "source": [
    "## Ethereum price history\n",
    "To gain a better understanding of the volatility of the USD/ETH price, let's plot the historical price development."
   ]
  },
  {
   "cell_type": "code",
   "execution_count": null,
   "metadata": {},
   "outputs": [],
   "source": [
    "eth_time, eth_value = ethereum_data()\n",
    "f, ax = plt.subplots(1,1,figsize=(20,12))\n",
    "ax.plot(eth_time, eth_value)\n",
    "ax.set_xlabel(\"time\")\n",
    "ax.set_ylabel(\"USD/ETH\")\n",
    "ax.text(eth_time[-1],eth_value[-1], \"Current price: \\n \" + str(np.round(eth_value[-1],1)) + \"USD/ETH\", fontsize=16)\n",
    "plt.rcParams.update({'font.size': 16})\n"
   ]
  },
  {
   "cell_type": "markdown",
   "metadata": {},
   "source": [
    "## Expected timefraction\n",
    "#### input: \n",
    "- Lower and upper bound (percent of the current value)\\\n",
    "- Time horizon.\n",
    "\n",
    "#### output:\n",
    "- Expected time fraction"
   ]
  },
  {
   "cell_type": "code",
   "execution_count": null,
   "metadata": {},
   "outputs": [],
   "source": [
    "price_range = [0.9, 1.1]\n",
    "T = 10\n",
    "f = expected_timefraction(lower_bound=price_range[0], upper_bound=price_range[1], time_horizon=T)\n",
    "print(\"Expected time fraction given price range: \", np.round(price_range[0]*eth_value[-1],1), \" - \", \n",
    "np.round(price_range[0]*eth_value[-1],1), \"$/ETH and time horizon: \", T)\n",
    "print(\"Expected time fraction: \", np.round(f,3))"
   ]
  },
  {
   "cell_type": "markdown",
   "metadata": {},
   "source": [
    "## Best Range model\n",
    "#### input: \n",
    "- Expected time fraction\n",
    "- Time horizon.\n",
    "\n",
    "#### output:\n",
    "- Lower and upper bound (percent of the current value)\\\n"
   ]
  },
  {
   "cell_type": "code",
   "execution_count": null,
   "metadata": {},
   "outputs": [],
   "source": [
    "# Call Best range model\n",
    "f = 0.5\n",
    "T = 10\n",
    "l, u = best_range(expected_timefraction=f, time_horizon=T)\n",
    "print(\"Best price range given desired_timefraction: \", f, \", and time horizon: \", T, \" days.\")\n",
    "print(\"price range: \", np.round(l,1), \" - \", np.round(u,1), \" $/ETH\")"
   ]
  },
  {
   "cell_type": "markdown",
   "metadata": {},
   "source": [
    "## How our models work\n",
    "TODO!"
   ]
  },
  {
   "cell_type": "code",
   "execution_count": null,
   "metadata": {},
   "outputs": [],
   "source": []
  }
 ],
 "metadata": {
  "kernelspec": {
   "display_name": ".env",
   "language": "python",
   "name": ".env"
  },
  "language_info": {
   "codemirror_mode": {
    "name": "ipython",
    "version": 3
   },
   "file_extension": ".py",
   "mimetype": "text/x-python",
   "name": "python",
   "nbconvert_exporter": "python",
   "pygments_lexer": "ipython3",
   "version": "3.7.6"
  }
 },
 "nbformat": 4,
 "nbformat_minor": 4
}
